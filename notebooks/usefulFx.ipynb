{
 "cells": [
  {
   "cell_type": "code",
   "execution_count": null,
   "metadata": {},
   "outputs": [],
   "source": [
    "## Some functions from nnUNET\n",
    "def load_nifty(directory, example_id, suffix):\n",
    "    \"\"\"\n",
    "    Loads a nifti file from the given (directory)\n",
    "    with the given example_id and suffix\n",
    "    \"\"\"\n",
    "    return nibabel.load(os.path.join(directory, example_id + \"_\" + suffix + \".nii.gz\"))\n",
    "\n",
    "def load_channels(d, example_id):\n",
    "    \"\"\"\n",
    "    Loads four nifti files from the given directory (d)\n",
    "    with the given (example_id )\n",
    "    and the suffixes \"flair\", \"t1\", \"t1ce\", \"t2\"\n",
    "    \"\"\"\n",
    "    return [load_nifty(d, example_id, suffix) for suffix in [\"t1c\", \"t1n\", \"t2f\", \"t2w\"]]"
   ]
  },
  {
   "cell_type": "code",
   "execution_count": null,
   "metadata": {},
   "outputs": [],
   "source": [
    "# Some fx based on data exploration\n",
    "def load_modalities(modalities, data_dir):\n",
    "    # Create paths for each modality \n",
    "    img_modalitypth = [(os.path.join(data_dir + img_folder, img_folder + f\"-{m}.nii.gz\")) for m in modalities]\n",
    "    ## double check for files loaded\n",
    "    for i in range(len(img_modalitypth)) : print(os.path.basename(img_modalitypth[i]))  #double check files loaded\n",
    "    \n",
    "    # load modalities into a list, generate headers\n",
    "    img_modality = []\n",
    "    hdrs = {}\n",
    "    for idx, mname in enumerate(modalities):\n",
    "        globals()[f'{mname}_img'] = nib.load(img_modalitypth[idx])\n",
    "        img_modality.append(globals()[f'{mname}_img'])\n",
    "        hdrs[f'{mname}_img'] = img_modality[idx].header\n",
    "        print(f\"Dimensions for modality {mname} is {img_modality[idx].shape}, with isotropic resolution of {hdrs[f'{mname}_img'].get_zooms()} \")\n",
    "    return img_modality, hdrs\n"
   ]
  }
 ],
 "metadata": {
  "language_info": {
   "name": "python"
  },
  "orig_nbformat": 4
 },
 "nbformat": 4,
 "nbformat_minor": 2
}
