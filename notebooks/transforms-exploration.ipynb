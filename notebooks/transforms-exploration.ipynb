{
 "cells": [
  {
   "attachments": {},
   "cell_type": "markdown",
   "metadata": {},
   "source": [
    "# Data Augmentations Check"
   ]
  },
  {
   "attachments": {},
   "cell_type": "markdown",
   "metadata": {},
   "source": [
    "## Preprocessing:\n",
    "Here we will check what effects torchio transformations have on each volume\n",
    "1. Crop or Pad\n",
    "2. Mask - normalisation using label as a mask\n",
    "3. One Hot Encoding"
   ]
  },
  {
   "attachments": {},
   "cell_type": "markdown",
   "metadata": {},
   "source": [
    "### Load data using the data_prep code\n",
    "**NB: DO NOT RUN THE DATA PREPROC PART YET**\n",
    "\n",
    "To ensure we are just working with a few functions at a time, py script is copied in below without preproc. We will run each example on several SSA and GLI datasets"
   ]
  },
  {
   "attachments": {},
   "cell_type": "markdown",
   "metadata": {},
   "source": [
    "#### Some functions from scripts"
   ]
  },
  {
   "cell_type": "code",
   "execution_count": 1,
   "metadata": {},
   "outputs": [],
   "source": [
    "import numpy as np\n",
    "import matplotlib.pyplot as plt\n",
    "import nibabel as nib\n",
    "import os\n",
    "import random\n",
    "from matplotlib.colors import ListedColormap\n",
    "\n",
    "import json\n",
    "from glob import glob\n",
    "import time\n",
    "import numpy as np\n",
    "from matplotlib import rcParams \n",
    "import torchio as tio"
   ]
  },
  {
   "cell_type": "code",
   "execution_count": 1,
   "metadata": {},
   "outputs": [
    {
     "name": "stdout",
     "output_type": "stream",
     "text": [
      "Collecting package metadata (current_repodata.json): ...working... done\n",
      "Solving environment: ...working... done\n",
      "\n",
      "# All requested packages already installed.\n",
      "\n"
     ]
    },
    {
     "name": "stderr",
     "output_type": "stream",
     "text": [
      "\n",
      "\n",
      "==> WARNING: A newer version of conda exists. <==\n",
      "  current version: 4.9.2\n",
      "  latest version: 23.5.0\n",
      "\n",
      "Please update conda by running\n",
      "\n",
      "    $ conda update -n base -c defaults conda\n",
      "\n",
      "\n"
     ]
    }
   ],
   "source": [
    "import sys\n",
    "!conda install --yes --prefix {sys.prefix} numpy"
   ]
  },
  {
   "cell_type": "code",
   "execution_count": 2,
   "metadata": {},
   "outputs": [
    {
     "name": "stdout",
     "output_type": "stream",
     "text": [
      "C:\\Users\\amoda\\Documents\\SPARK\\BraTS2023\\Data\\Samples\\\n",
      "Total folders:  4 \n",
      " Subjects:  ['BraTS-GLI-00002-000', 'BraTS-GLI-01035-000', 'BraTS-SSA-00002-000', 'BraTS-SSA-00046-000']\n"
     ]
    }
   ],
   "source": [
    "# Read in data files\n",
    "\n",
    "# CHANGE data_dir path as per your local set up\n",
    "pthAlex = '/Users/alexandrasmith/Desktop/Workspace/Projects/UNN_BraTS23/data/ASNR-MICCAI-BraTS2023-SSA-Challenge-TrainingData/'\n",
    "pthAly = 'C:\\\\Users\\\\amoda\\\\Documents\\\\SPARK\\\\BraTS2023\\\\Data\\\\Samples\\\\'\n",
    "\n",
    "data_dir = pthAly\n",
    "print(data_dir)\n",
    "specific_string = 'BraTS-'\n",
    "# folders = os.listdir(data_dir)\n",
    "folders = [folder for folder in os.listdir(data_dir) if os.path.isdir(os.path.join(data_dir, folder)) and folder.startswith(specific_string)]\n",
    "\n",
    "print(\"Total folders: \", len(folders), \"\\n Subjects: \",  folders)"
   ]
  },
  {
   "cell_type": "code",
   "execution_count": 3,
   "metadata": {},
   "outputs": [
    {
     "name": "stdout",
     "output_type": "stream",
     "text": [
      "C:\\Users\\amoda\\Documents\\SPARK\\BraTS2023\\Data\\Samples\\\n",
      "Total folders:  4 \n",
      " Subjects:  ['BraTS-GLI-00002-000', 'BraTS-GLI-01035-000', 'BraTS-SSA-00002-000', 'BraTS-SSA-00046-000']\n",
      "Working with subject: BraTS-GLI-01035-000\n"
     ]
    },
    {
     "ename": "",
     "evalue": "",
     "output_type": "error",
     "traceback": [
      "\u001b[1;31mCannot execute code, session has been disposed. Please try restarting the Kernel."
     ]
    },
    {
     "ename": "",
     "evalue": "",
     "output_type": "error",
     "traceback": [
      "\u001b[1;31mThe Kernel crashed while executing code in the the current cell or a previous cell. Please review the code in the cell(s) to identify a possible cause of the failure. Click <a href='https://aka.ms/vscodeJupyterKernelCrash'>here</a> for more info. View Jupyter <a href='command:jupyter.viewOutput'>log</a> for further details."
     ]
    }
   ],
   "source": [
    "#Select one subject to Explore\n",
    "data_dir = pthAly\n",
    "print(data_dir)\n",
    "specific_string = 'BraTS-'\n",
    "# folders = os.listdir(data_dir)\n",
    "folders = [folder for folder in os.listdir(data_dir) if os.path.isdir(os.path.join(data_dir, folder)) and folder.startswith(specific_string)]\n",
    "\n",
    "print(\"Total folders: \", len(folders), \"\\n Subjects: \",  folders)\n",
    "#randomly select a subject\n",
    "img_folder = folders[random.randrange(0, len(folders))]\n",
    "print(f\"Working with subject: {img_folder}\")\n",
    "\n",
    "## Set up files\n",
    "# Load image volumes\n",
    "img_volumes = [nib.load(os.path.join(data_dir + img_folder, img_folder + f\"-{m}.nii.gz\")) for m in [\"t1c\", \"t1n\", \"t2f\", \"t2w\"]]\n",
    "\n",
    "# Load segmentation volume\n",
    "seg_volume = nib.load(os.path.join(data_dir + img_folder, img_folder + \"-seg.nii.gz\"))\n",
    "\n",
    "subjects = [subj for subj in folders] \n",
    "print(subjects)"
   ]
  },
  {
   "cell_type": "code",
   "execution_count": null,
   "metadata": {},
   "outputs": [
    {
     "name": "stdout",
     "output_type": "stream",
     "text": [
      "[Subject(Keys: ('image', 'label'); images: 2), Subject(Keys: ('image', 'label'); images: 2), Subject(Keys: ('image', 'label'); images: 2), Subject(Keys: ('image', 'label'); images: 2)]\n"
     ]
    }
   ],
   "source": [
    "subjects_tio = []\n",
    "for s in subjects:\n",
    "        subject = tio.Subject(\n",
    "                image=tio.ScalarImage(os.path.join(data_dir + s, s + \"-t1n.nii.gz\")),\n",
    "                label=tio.LabelMap(os.path.join(data_dir + s, s + \"-seg.nii.gz\")))\n",
    "        subjects_tio.append(subject)\n",
    "print(subjects_tio)"
   ]
  },
  {
   "cell_type": "code",
   "execution_count": null,
   "metadata": {},
   "outputs": [
    {
     "name": "stdout",
     "output_type": "stream",
     "text": [
      "Original shape: (240, 240, 155)\n",
      "Scaled shape: (192, 192, 124)\n"
     ]
    }
   ],
   "source": [
    "import numpy as np\n",
    "from scipy.ndimage import zoom\n",
    "\n",
    "# Define the original array\n",
    "original_array = np.random.random((240, 240, 155))\n",
    "\n",
    "# Define the scaling factor\n",
    "scale_factor = 0.8\n",
    "\n",
    "# Calculate the new dimensions\n",
    "new_shape = tuple(int(dim * scale_factor) for dim in original_array.shape)\n",
    "\n",
    "# Scale down the array\n",
    "scaled_array = zoom(original_array, scale_factor)\n",
    "\n",
    "# Verify the new shape\n",
    "print(\"Original shape:\", original_array.shape)\n",
    "print(\"Scaled shape:\", scaled_array.shape)"
   ]
  },
  {
   "cell_type": "code",
   "execution_count": null,
   "metadata": {},
   "outputs": [],
   "source": [
    "to_ras = tio.ToCanonical()\n",
    "crop_pad_Zein = tio.CropOrPad((192, 224, 160), mask_name=\"label\")\n",
    "crop_pad = tio.CropOrPad((192, 224, 160))\n",
    "crop_pad_lbl = tio.CropOrPad(mask_name=\"label\")\n"
   ]
  },
  {
   "cell_type": "code",
   "execution_count": null,
   "metadata": {},
   "outputs": [
    {
     "ename": "",
     "evalue": "",
     "output_type": "error",
     "traceback": [
      "\u001b[1;31mCannot execute code, session has been disposed. Please try restarting the Kernel."
     ]
    },
    {
     "ename": "",
     "evalue": "",
     "output_type": "error",
     "traceback": [
      "\u001b[1;31mThe Kernel crashed while executing code in the the current cell or a previous cell. Please review the code in the cell(s) to identify a possible cause of the failure. Click <a href='https://aka.ms/vscodeJupyterKernelCrash'>here</a> for more info. View Jupyter <a href='command:jupyter.viewOutput'>log</a> for further details."
     ]
    }
   ],
   "source": [
    "for s in subjects_tio:\n",
    "    ras = to_ras(s)\n",
    "    ras.plot()"
   ]
  },
  {
   "cell_type": "code",
   "execution_count": null,
   "metadata": {},
   "outputs": [],
   "source": [
    "for s in subjects_tio:\n",
    "    cp = crop_pad(s)\n",
    "    cp.plot()"
   ]
  },
  {
   "cell_type": "code",
   "execution_count": null,
   "metadata": {},
   "outputs": [],
   "source": [
    "for s in subjects_tio:\n",
    "    cpZ = crop_pad_Zein(s)\n",
    "    cpZ.plot()"
   ]
  },
  {
   "cell_type": "code",
   "execution_count": null,
   "metadata": {},
   "outputs": [
    {
     "ename": "NameError",
     "evalue": "name 'subjects_tio' is not defined",
     "output_type": "error",
     "traceback": [
      "\u001b[1;31m---------------------------------------------------------------------------\u001b[0m",
      "\u001b[1;31mNameError\u001b[0m                                 Traceback (most recent call last)",
      "Cell \u001b[1;32mIn[1], line 1\u001b[0m\n\u001b[1;32m----> 1\u001b[0m \u001b[39mfor\u001b[39;00m s \u001b[39min\u001b[39;00m subjects_tio:\n\u001b[0;32m      2\u001b[0m     cpl \u001b[39m=\u001b[39m crop_pad_lbl(s)\n\u001b[0;32m      3\u001b[0m     cpl\u001b[39m.\u001b[39mplot()\n",
      "\u001b[1;31mNameError\u001b[0m: name 'subjects_tio' is not defined"
     ]
    }
   ],
   "source": [
    "for s in subjects_tio:\n",
    "    cpl = crop_pad_lbl(s)\n",
    "    cpl.plot()"
   ]
  },
  {
   "cell_type": "code",
   "execution_count": null,
   "metadata": {},
   "outputs": [],
   "source": []
  }
 ],
 "metadata": {
  "kernelspec": {
   "display_name": "base",
   "language": "python",
   "name": "python3"
  },
  "language_info": {
   "codemirror_mode": {
    "name": "ipython",
    "version": 3
   },
   "file_extension": ".py",
   "mimetype": "text/x-python",
   "name": "python",
   "nbconvert_exporter": "python",
   "pygments_lexer": "ipython3",
   "version": "3.8.16"
  },
  "orig_nbformat": 4
 },
 "nbformat": 4,
 "nbformat_minor": 2
}
