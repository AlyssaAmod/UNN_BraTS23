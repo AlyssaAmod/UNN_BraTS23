{
  "cells": [
    {
      "cell_type": "code",
      "execution_count": 5,
      "metadata": {},
      "outputs": [],
      "source": [
        "import pandas as pd\n",
        "from scipy.stats import ks_2samp\n",
        "import glob\n",
        "import os"
      ]
    },
    {
      "cell_type": "code",
      "execution_count": 2,
      "metadata": {},
      "outputs": [],
      "source": [
        "dir_pth = 'D:\\\\CourseStuff\\\\SPARK\\\\BraTS2023\\\\results\\\\val_scores_synapse\\\\final_metrics'"
      ]
    },
    {
      "cell_type": "markdown",
      "metadata": {},
      "source": [
        "### Combine results CSV files with only Dice and HD95 scores"
      ]
    },
    {
      "cell_type": "code",
      "execution_count": 40,
      "metadata": {},
      "outputs": [],
      "source": [
        "import pandas as pd\n",
        "\n",
        "file_names = ['ssa4f.csv', 'ssa5f.csv', 'all75.csv', 'all100.csv', 'gli.csv', 'ftssa4f.csv', 'ftssa5f.csv']\n",
        "model_names = ['ssa4f', 'ssa5f', 'all75', 'all100', 'gli', 'ftssa4f', 'ftssa5f']\n",
        "\n",
        "dfs = []\n",
        "for file, model in zip(file_names, model_names):\n",
        " df = pd.read_csv(os.path.join(dir_pth,file))\n",
        " df.columns = df.columns.str.replace('LesionWise', model)\n",
        " df = df.rename(columns={df.columns[0]: 'subjID'})\n",
        " df = df.set_index('subjID') # Set 'subjID' as the index\n",
        " df = df.iloc[:, :6] # Select only the first 7 columns\n",
        " dfs.append(df)\n",
        "\n",
        "combined_df = pd.concat(dfs, axis=1)\n",
        "combined_df.to_csv(os.path.join(dir_pth,'finalMetrics_all.csv'))"
      ]
    },
    {
      "cell_type": "code",
      "execution_count": 42,
      "metadata": {},
      "outputs": [
        {
          "name": "stdout",
          "output_type": "stream",
          "text": [
            "K-S test for ftssa4f versus ssa4f ET: statistic=0.4, p-value=0.08105771161340149\n",
            "K-S test for ftssa4f versus ssa4f TC: statistic=0.4, p-value=0.08105771161340149\n",
            "K-S test for ftssa4f versus ssa4f WT: statistic=0.7, p-value=5.569062975843453e-05\n",
            "K-S test for ftssa4f versus ssa5f ET: statistic=0.4, p-value=0.08105771161340149\n",
            "K-S test for ftssa4f versus ssa5f TC: statistic=0.45, p-value=0.0335416594061465\n",
            "K-S test for ftssa4f versus ssa5f WT: statistic=0.5, p-value=0.012298612583953778\n",
            "K-S test for ftssa4f versus all75 ET: statistic=0.35, p-value=0.17453300569806826\n",
            "K-S test for ftssa4f versus all75 TC: statistic=0.25, p-value=0.571336004933722\n",
            "K-S test for ftssa4f versus all75 WT: statistic=0.4, p-value=0.08105771161340149\n",
            "K-S test for ftssa4f versus all100 ET: statistic=0.35, p-value=0.17453300569806826\n",
            "K-S test for ftssa4f versus all100 TC: statistic=0.25, p-value=0.571336004933722\n",
            "K-S test for ftssa4f versus all100 WT: statistic=0.25, p-value=0.571336004933722\n",
            "K-S test for ftssa4f versus gli ET: statistic=0.35, p-value=0.17453300569806826\n",
            "K-S test for ftssa4f versus gli TC: statistic=0.35, p-value=0.17453300569806826\n",
            "K-S test for ftssa4f versus gli WT: statistic=0.3, p-value=0.33559098126008213\n",
            "K-S test for ftssa4f versus ftssa5f ET: statistic=0.15, p-value=0.9831368772656193\n",
            "K-S test for ftssa4f versus ftssa5f TC: statistic=0.1, p-value=0.9999923931635496\n",
            "K-S test for ftssa4f versus ftssa5f WT: statistic=0.2, p-value=0.8319696107963263\n"
          ]
        }
      ],
      "source": [
        "comp_model = 'ftssa4f'\n",
        "model_names = ['ssa4f', 'ssa5f', 'all75', 'all100', 'gli', 'ftssa5f']\n",
        "for model in model_names:\n",
        "   for sub_region in ['ET', 'TC', 'WT']:\n",
        "       score_col = f'{model}_Dice_{sub_region}'\n",
        "       ks_stat, p_val = ks_2samp(combined_df[f'{comp_model}_Dice_{sub_region}'], combined_df[score_col])\n",
        "       print(f'K-S test for ftssa4f versus {model} {sub_region}: statistic={ks_stat}, p-value={p_val}')\n"
      ]
    },
    {
      "cell_type": "code",
      "execution_count": 44,
      "metadata": {},
      "outputs": [
        {
          "name": "stdout",
          "output_type": "stream",
          "text": [
            "K-S test for ftssa5f versus ssa4f ET: statistic=0.4, p-value=0.08105771161340149\n",
            "K-S test for ftssa5f versus ssa4f TC: statistic=0.4, p-value=0.08105771161340149\n",
            "K-S test for ftssa5f versus ssa4f WT: statistic=0.75, p-value=9.54696510144592e-06\n",
            "K-S test for ftssa5f versus ssa5f ET: statistic=0.4, p-value=0.08105771161340149\n",
            "K-S test for ftssa5f versus ssa5f TC: statistic=0.45, p-value=0.0335416594061465\n",
            "K-S test for ftssa5f versus ssa5f WT: statistic=0.55, p-value=0.00396729438660086\n",
            "K-S test for ftssa5f versus all75 ET: statistic=0.35, p-value=0.17453300569806826\n",
            "K-S test for ftssa5f versus all75 TC: statistic=0.25, p-value=0.571336004933722\n",
            "K-S test for ftssa5f versus all75 WT: statistic=0.45, p-value=0.0335416594061465\n",
            "K-S test for ftssa5f versus all100 ET: statistic=0.3, p-value=0.33559098126008213\n",
            "K-S test for ftssa5f versus all100 TC: statistic=0.25, p-value=0.571336004933722\n",
            "K-S test for ftssa5f versus all100 WT: statistic=0.35, p-value=0.17453300569806826\n",
            "K-S test for ftssa5f versus gli ET: statistic=0.4, p-value=0.08105771161340149\n",
            "K-S test for ftssa5f versus gli TC: statistic=0.35, p-value=0.17453300569806826\n",
            "K-S test for ftssa5f versus gli WT: statistic=0.35, p-value=0.17453300569806826\n",
            "K-S test for ftssa5f versus ftssa4f ET: statistic=0.15, p-value=0.9831368772656193\n",
            "K-S test for ftssa5f versus ftssa4f TC: statistic=0.1, p-value=0.9999923931635496\n",
            "K-S test for ftssa5f versus ftssa4f WT: statistic=0.2, p-value=0.8319696107963263\n"
          ]
        }
      ],
      "source": [
        "comp_model = 'ftssa5f'\n",
        "model_names = ['ssa4f', 'ssa5f', 'all75', 'all100', 'gli','ftssa4f']\n",
        "for model in model_names:\n",
        "   for sub_region in ['ET', 'TC', 'WT']:\n",
        "       score_col = f'{model}_Dice_{sub_region}'\n",
        "       ks_stat, p_val = ks_2samp(combined_df[f'{comp_model}_Dice_{sub_region}'], combined_df[score_col])\n",
        "       print(f'K-S test for ftssa5f versus {model} {sub_region}: statistic={ks_stat}, p-value={p_val}')"
      ]
    },
    {
      "cell_type": "code",
      "execution_count": 70,
      "metadata": {},
      "outputs": [
        {
          "name": "stdout",
          "output_type": "stream",
          "text": [
            "K-S test for ftssa5f versus all100 ET: statistic=0.3, p-value=0.33559098126008213\n",
            "K-S test for ftssa5f versus all100 TC: statistic=0.25, p-value=0.571336004933722\n",
            "K-S test for ftssa5f versus all100 WT: statistic=0.35, p-value=0.17453300569806826\n",
            "K-S test for ftssa5f versus gli ET: statistic=0.4, p-value=0.08105771161340149\n",
            "K-S test for ftssa5f versus gli TC: statistic=0.35, p-value=0.17453300569806826\n",
            "K-S test for ftssa5f versus gli WT: statistic=0.35, p-value=0.17453300569806826\n"
          ]
        }
      ],
      "source": [
        "comp_model = 'ftssa5f'\n",
        "model_names = ['all100', 'gli']\n",
        "for model in model_names:\n",
        "   for sub_region in ['ET', 'TC', 'WT']:\n",
        "       score_col = f'{model}_Dice_{sub_region}'\n",
        "       ks_stat, p_val = ks_2samp(combined_df[f'{comp_model}_Dice_{sub_region}'], combined_df[score_col])\n",
        "       print(f'K-S test for ftssa5f versus {model} {sub_region}: statistic={ks_stat}, p-value={p_val}')"
      ]
    },
    {
      "cell_type": "code",
      "execution_count": 46,
      "metadata": {},
      "outputs": [
        {
          "name": "stdout",
          "output_type": "stream",
          "text": [
            "K-S test for ftssa5f versus all100 ET: statistic=0.35, p-value=0.17453300569806826\n",
            "K-S test for ftssa5f versus all100 TC: statistic=0.25, p-value=0.571336004933722\n",
            "K-S test for ftssa5f versus all100 WT: statistic=0.25, p-value=0.571336004933722\n",
            "K-S test for ftssa5f versus gli ET: statistic=0.35, p-value=0.17453300569806826\n",
            "K-S test for ftssa5f versus gli TC: statistic=0.35, p-value=0.17453300569806826\n",
            "K-S test for ftssa5f versus gli WT: statistic=0.3, p-value=0.33559098126008213\n"
          ]
        }
      ],
      "source": [
        "comp_model = 'ftssa4f'\n",
        "model_names = ['all100', 'gli',]\n",
        "for model in model_names:\n",
        "   for sub_region in ['ET', 'TC', 'WT']:\n",
        "       score_col = f'{model}_Dice_{sub_region}'\n",
        "       ks_stat, p_val = ks_2samp(combined_df[f'{comp_model}_Dice_{sub_region}'], combined_df[score_col])\n",
        "       print(f'K-S test for ftssa5f versus {model} {sub_region}: statistic={ks_stat}, p-value={p_val}')"
      ]
    },
    {
      "cell_type": "code",
      "execution_count": 67,
      "metadata": {},
      "outputs": [
        {
          "name": "stdout",
          "output_type": "stream",
          "text": [
            "K-S test for ftssa5f versus all100 ET: KstestResult(statistic=0.3, pvalue=0.33559098126008213, statistic_location=0.940317, statistic_sign=-1)\n",
            "K-S test for ftssa5f versus all100 TC: KstestResult(statistic=0.25, pvalue=0.571336004933722, statistic_location=0.951092, statistic_sign=-1)\n",
            "K-S test for ftssa5f versus all100 WT: KstestResult(statistic=0.35, pvalue=0.17453300569806826, statistic_location=0.905651, statistic_sign=-1)\n",
            "K-S test for ftssa5f versus gli ET: KstestResult(statistic=0.4, pvalue=0.08105771161340149, statistic_location=0.907017876, statistic_sign=-1)\n",
            "K-S test for ftssa5f versus gli TC: KstestResult(statistic=0.35, pvalue=0.17453300569806826, statistic_location=0.947602608, statistic_sign=-1)\n",
            "K-S test for ftssa5f versus gli WT: KstestResult(statistic=0.35, pvalue=0.17453300569806826, statistic_location=0.471556958, statistic_sign=-1)\n"
          ]
        }
      ],
      "source": [
        "comp_model = 'ftssa5f'\n",
        "model_names = ['all100', 'gli']\n",
        "for model in model_names:\n",
        "   for sub_region in ['ET', 'TC', 'WT']:\n",
        "       score_col = f'{model}_Dice_{sub_region}'\n",
        "       results = ks_2samp(combined_df[f'{comp_model}_Dice_{sub_region}'], combined_df[score_col])\n",
        "       print(f'K-S test for ftssa5f versus {model} {sub_region}: {results}')"
      ]
    },
    {
      "cell_type": "code",
      "execution_count": 66,
      "metadata": {},
      "outputs": [
        {
          "name": "stdout",
          "output_type": "stream",
          "text": [
            "MannU test for ftssa5f versus all100 ET: statistic=229.0, p-value=0.44070701014537317\n",
            "MannU test for ftssa5f versus all100 TC: statistic=223.0, p-value=0.5427338441435716\n",
            "MannU test for ftssa5f versus all100 WT: statistic=265.0, p-value=0.08100324590993967\n",
            "MannU test for ftssa5f versus gli ET: statistic=237.0, p-value=0.3234363510452939\n",
            "MannU test for ftssa5f versus gli TC: statistic=227.0, p-value=0.47343912579180947\n",
            "MannU test for ftssa5f versus gli WT: statistic=277.0, p-value=0.038496757838422595\n"
          ]
        }
      ],
      "source": [
        "from scipy.stats import mannwhitneyu\n",
        "\n",
        "comp_model = 'ftssa5f'\n",
        "model_names = ['all100', 'gli']\n",
        "for model in model_names:\n",
        "   for sub_region in ['ET', 'TC', 'WT']:\n",
        "       score_col = f'{model}_Dice_{sub_region}'\n",
        "       u_stat, p_val = mannwhitneyu(combined_df[f'{comp_model}_Dice_{sub_region}'], combined_df[score_col])\n",
        "       print(f'MannU test for ftssa5f versus {model} {sub_region}: statistic={u_stat}, p-value={p_val}')"
      ]
    },
    {
      "cell_type": "code",
      "execution_count": 53,
      "metadata": {},
      "outputs": [
        {
          "name": "stdout",
          "output_type": "stream",
          "text": [
            "MannU test for ftssa4f versus all100 ET: statistic=221.0, p-value=0.5791827574368351\n",
            "MannU test for ftssa4f versus all100 TC: statistic=220.0, p-value=0.5978282097065557\n",
            "MannU test for ftssa4f versus all100 WT: statistic=245.0, p-value=0.22865069212391953\n",
            "MannU test for ftssa4f versus gli ET: statistic=223.0, p-value=0.5427338441435716\n",
            "MannU test for ftssa4f versus gli TC: statistic=224.0, p-value=0.5249480301883118\n",
            "MannU test for ftssa4f versus gli WT: statistic=258.0, p-value=0.1198208357791891\n"
          ]
        }
      ],
      "source": [
        "from scipy.stats import mannwhitneyu\n",
        "\n",
        "comp_model = 'ftssa4f'\n",
        "model_names = ['all100', 'gli',]\n",
        "for model in model_names:\n",
        "   for sub_region in ['ET', 'TC', 'WT']:\n",
        "       score_col = f'{model}_Dice_{sub_region}'\n",
        "       u_stat, p_val = mannwhitneyu(combined_df[f'{comp_model}_Dice_{sub_region}'], combined_df[score_col])\n",
        "       print(f'MannU test for ftssa4f versus {model} {sub_region}: statistic={u_stat}, p-value={p_val}')"
      ]
    },
    {
      "cell_type": "code",
      "execution_count": 56,
      "metadata": {},
      "outputs": [
        {
          "name": "stdout",
          "output_type": "stream",
          "text": [
            "MannU test for ftssa5f versus all100 ET: MannwhitneyuResult(statistic=229.0, pvalue=0.44070701014537317)\n",
            "MannU test for ftssa5f versus all100 TC: MannwhitneyuResult(statistic=223.0, pvalue=0.5427338441435716)\n",
            "MannU test for ftssa5f versus all100 WT: MannwhitneyuResult(statistic=265.0, pvalue=0.08100324590993967)\n",
            "MannU test for ftssa5f versus gli ET: MannwhitneyuResult(statistic=237.0, pvalue=0.3234363510452939)\n",
            "MannU test for ftssa5f versus gli TC: MannwhitneyuResult(statistic=227.0, pvalue=0.47343912579180947)\n",
            "MannU test for ftssa5f versus gli WT: MannwhitneyuResult(statistic=277.0, pvalue=0.038496757838422595)\n"
          ]
        }
      ],
      "source": [
        "comp_model = 'ftssa5f'\n",
        "model_names = ['all100', 'gli',]\n",
        "for model in model_names:\n",
        "   for sub_region in ['ET', 'TC', 'WT']:\n",
        "       score_col = f'{model}_Dice_{sub_region}'\n",
        "       results = mannwhitneyu(combined_df[f'{comp_model}_Dice_{sub_region}'], combined_df[score_col])\n",
        "       print(f'MannU test for ftssa5f versus {model} {sub_region}: {results}')"
      ]
    },
    {
      "cell_type": "code",
      "execution_count": 60,
      "metadata": {},
      "outputs": [
        {
          "name": "stdout",
          "output_type": "stream",
          "text": [
            "MannU test for ftssa5f versus gli: statistic=18.0, p-value=1.0\n",
            "MannU test for ftssa4f versus gli: statistic=20.0, p-value=0.8181818181818182\n",
            "MannU test for ftssa5f versus all100: statistic=17.0, p-value=0.9372294372294373\n",
            "MannU test for ftssa4f versus all100: statistic=19.0, p-value=0.9372294372294373\n"
          ]
        }
      ],
      "source": [
        "ssa4F = [0.5681,0.6050,0.4741,136.03,115.30,158.71]\n",
        "ssa5F = [0.5705,0.5894,0.6134,137.80,126.34,126.31]\n",
        "all75 = [0.8198,0.7814,0.6710,31.19,45.06,106.00]\n",
        "all100 = [0.7965,0.7971,0.7743,33.62,35.25,66.76]\n",
        "gli = [0.8327,0.8218,0.7468,19.05,23.07,77.13]\n",
        "ftssa4F = [0.7577,0.7907,0.8647,59.04,45.85,31.18]\n",
        "ftssa5F = [0.7614,0.7958,0.9081,59.04,42.26,14.66]\n",
        "\n",
        "u_stat, p_val = mannwhitneyu(ftssa5F, gli)\n",
        "print(f'MannU test for ftssa5f versus gli: statistic={u_stat}, p-value={p_val}')\n",
        "\n",
        "u_stat1, p_val1 = mannwhitneyu(ftssa4F, gli)\n",
        "print(f'MannU test for ftssa4f versus gli: statistic={u_stat1}, p-value={p_val1}')\n",
        "\n",
        "u_stat2, p_val2 = mannwhitneyu(ftssa5F, all100)\n",
        "print(f'MannU test for ftssa5f versus all100: statistic={u_stat2}, p-value={p_val2}')\n",
        "\n",
        "u_stat3, p_val3 = mannwhitneyu(ftssa4F, all75)\n",
        "print(f'MannU test for ftssa4f versus all100: statistic={u_stat3}, p-value={p_val3}')"
      ]
    },
    {
      "cell_type": "code",
      "execution_count": 64,
      "metadata": {},
      "outputs": [
        {
          "name": "stdout",
          "output_type": "stream",
          "text": [
            "T-test for ftssa4f versus all75 ET: statistic=-0.7398104848000058, p-value=0.46396126927336034\n",
            "T-test for ftssa4f versus all75 TC: statistic=0.16541929119954046, p-value=0.8694908912661233\n",
            "T-test for ftssa4f versus all75 WT: statistic=2.1165858713684575, p-value=0.04090122776045746\n",
            "T-test for ftssa4f versus gli ET: statistic=-0.8651046223835235, p-value=0.39241016787004146\n",
            "T-test for ftssa4f versus gli TC: statistic=-0.3590963591738548, p-value=0.7215107117380706\n",
            "T-test for ftssa4f versus gli WT: statistic=1.5027478166298895, p-value=0.1411697644610931\n"
          ]
        }
      ],
      "source": [
        "from scipy.stats import ttest_ind\n",
        "\n",
        "# Extract the two columns\n",
        "comp_model = 'ftssa4f'\n",
        "model_names = ['all75', 'gli']\n",
        "for model in model_names:\n",
        "   for sub_region in ['ET', 'TC', 'WT']:\n",
        "       score_col = f'{model}_Dice_{sub_region}'\n",
        "       t_stat, p_val = ttest_ind(combined_df[f'{comp_model}_Dice_{sub_region}'], combined_df[score_col])\n",
        "       print(f'T-test for ftssa4f versus {model} {sub_region}: statistic={t_stat}, p-value={p_val}')\n"
      ]
    },
    {
      "cell_type": "code",
      "execution_count": 71,
      "metadata": {},
      "outputs": [
        {
          "name": "stdout",
          "output_type": "stream",
          "text": [
            "T-test for ftssa5f versus all100 ET: statistic=-0.4238770323540632, p-value=0.6740454016461217\n",
            "T-test for ftssa5f versus all100 TC: statistic=0.03285205726634953, p-value=0.9739645197418849\n",
            "T-test for ftssa5f versus all100 WT: statistic=1.4713820652467529, p-value=0.14942138747868117\n",
            "T-test for ftssa5f versus gli ET: statistic=-0.8075753697897687, p-value=0.42436155898190997\n",
            "T-test for ftssa5f versus gli TC: statistic=-0.32028800496385723, p-value=0.7505046212642811\n",
            "T-test for ftssa5f versus gli WT: statistic=1.9957047303772517, p-value=0.053170610846672725\n"
          ]
        }
      ],
      "source": [
        "# Extract the two columns\n",
        "comp_model = 'ftssa5f'\n",
        "model_names = ['all100', 'gli']\n",
        "for model in model_names:\n",
        "   for sub_region in ['ET', 'TC', 'WT']:\n",
        "       score_col = f'{model}_Dice_{sub_region}'\n",
        "       t_stat, p_val = ttest_ind(combined_df[f'{comp_model}_Dice_{sub_region}'], combined_df[score_col])\n",
        "       print(f'T-test for ftssa5f versus {model} {sub_region}: statistic={t_stat}, p-value={p_val}')"
      ]
    },
    {
      "cell_type": "code",
      "execution_count": 75,
      "metadata": {},
      "outputs": [
        {
          "name": "stdout",
          "output_type": "stream",
          "text": [
            "T-test for gli versus all75 ET: statistic=0.12493592202809381, p-value=0.9012328893808553\n",
            "T-test for gli versus all75 TC: statistic=0.5416389224753428, p-value=0.5912291584262588\n",
            "T-test for gli versus all75 WT: statistic=0.6947502667462024, p-value=0.491438223008412\n",
            "T-test for gli versus ftssa5f ET: statistic=0.8075753697897687, p-value=0.42436155898190997\n",
            "T-test for gli versus ftssa5f TC: statistic=0.32028800496385723, p-value=0.7505046212642811\n",
            "T-test for gli versus ftssa5f WT: statistic=-1.9957047303772517, p-value=0.053170610846672725\n"
          ]
        }
      ],
      "source": [
        "# Extract the two columns\n",
        "comp_model = 'gli'\n",
        "model_names = ['all75', 'ftssa5f']\n",
        "for model in model_names:\n",
        "   for sub_region in ['ET', 'TC', 'WT']:\n",
        "       score_col = f'{model}_Dice_{sub_region}'\n",
        "       t_stat, p_val = ttest_ind(combined_df[f'{comp_model}_Dice_{sub_region}'], combined_df[score_col])\n",
        "       print(f'T-test for gli versus {model} {sub_region}: statistic={t_stat}, p-value={p_val}')"
      ]
    },
    {
      "cell_type": "markdown",
      "metadata": {},
      "source": [
        "## FAILED "
      ]
    },
    {
      "cell_type": "code",
      "execution_count": 14,
      "metadata": {},
      "outputs": [
        {
          "name": "stdout",
          "output_type": "stream",
          "text": [
            "                subjID  LesionWise_Dice_ET  LesionWise_Dice_TC  \\\n",
            "0  BraTS-SSA-00126-000            0.423958            0.480762   \n",
            "1  BraTS-SSA-00129-000            0.915809            0.916483   \n",
            "2  BraTS-SSA-00132-000            0.464677            0.483822   \n",
            "3  BraTS-SSA-00139-000            0.300546            0.628885   \n",
            "4  BraTS-SSA-00143-000            0.309528            0.315160   \n",
            "\n",
            "   LesionWise_Dice_WT  LesionWise_Hausdorff95_ET  LesionWise_Hausdorff95_TC  \\\n",
            "0            0.316593                 188.414214                 188.000000   \n",
            "1            0.722159                   1.000000                   1.000000   \n",
            "2            0.966354                 187.500000                 187.707107   \n",
            "3            0.317462                 250.333333                  12.083046   \n",
            "4            0.476565                 249.804738                 250.078689   \n",
            "\n",
            "   LesionWise_Hausdorff95_WT  Num_TP_ET  Num_TP_TC  Num_TP_WT  Num_FP_ET  \\\n",
            "0                 250.276142        1.0        1.0        1.0        1.0   \n",
            "1                   9.273618        1.0        1.0        1.0        0.0   \n",
            "2                   2.449490        1.0        1.0        1.0        1.0   \n",
            "3                 250.078689        1.0        1.0        1.0        2.0   \n",
            "4                 188.224745        1.0        1.0        1.0        0.0   \n",
            "\n",
            "   Num_FP_TC  Num_FP_WT  Num_FN_ET  Num_FN_TC  Num_FN_WT  model  \n",
            "0        1.0        2.0        0.0        0.0        0.0  ssa4f  \n",
            "1        0.0        0.0        0.0        0.0        0.0  ssa4f  \n",
            "2        1.0        0.0        0.0        0.0        0.0  ssa4f  \n",
            "3        0.0        2.0        0.0        0.0        0.0  ssa4f  \n",
            "4        0.0        0.0        2.0        2.0        1.0  ssa4f  \n"
          ]
        }
      ],
      "source": [
        "# List of model files\n",
        "model_files = ['ssa4f.csv', 'ssa5f.csv', 'all75.csv', 'all100.csv', 'gli.csv', 'ftssa4f.csv', 'ftssa5f.csv']\n",
        "\n",
        "# List of models\n",
        "models = ['ssa4f', 'ssa5f', 'all75', 'all100', 'gli', 'ftssa4f', 'ftssa5f']\n",
        "\n",
        "# Initialize an empty DataFrame to hold the combined data\n",
        "combined_df = pd.DataFrame()\n",
        "\n",
        "for i, model_file in enumerate(model_files):\n",
        "   # Read the file into a DataFrame, adding a header to the first column\n",
        "   df = pd.read_csv(os.path.join(dir_pth, model_file))\n",
        "\n",
        "   # Add the column name \"subjID\" to the first column\n",
        "   df.columns = ['subjID'] + df.columns[1:].tolist()\n",
        "   \n",
        "   # Remove the last 5 rows\n",
        "   df = df.iloc[:-5]\n",
        "\n",
        "   # Add a new column with the model name\n",
        "   df['model'] = models[i]\n",
        "\n",
        "   # Append the DataFrame to the combined DataFrame\n",
        "   combined_df = pd.concat([combined_df, df], ignore_index=True)\n",
        "\n",
        "# Save the combined DataFrame to a new CSV file\n",
        "combined_df.to_csv(os.path.join(dir_pth,'finalMetrics_allModels2.csv'), index=False)\n",
        "\n",
        "# Print the first few rows of the DataFrame\n",
        "print(combined_df.head())"
      ]
    },
    {
      "cell_type": "code",
      "execution_count": 23,
      "metadata": {},
      "outputs": [
        {
          "name": "stdout",
          "output_type": "stream",
          "text": [
            "Name:  all100\n",
            "other_name:  all100\n",
            "continuing\n",
            "other_name:  all75\n",
            "Run test\n",
            "other_name:  ftssa4f\n",
            "Run test\n",
            "other_name:  ftssa5f\n",
            "Run test\n",
            "other_name:  gli\n",
            "Run test\n",
            "other_name:  ssa4f\n",
            "Run test\n",
            "other_name:  ssa5f\n",
            "Run test\n",
            "Name:  all75\n",
            "other_name:  all100\n",
            "Run test\n",
            "other_name:  all75\n",
            "continuing\n",
            "other_name:  ftssa4f\n",
            "Run test\n",
            "other_name:  ftssa5f\n",
            "Run test\n",
            "other_name:  gli\n",
            "Run test\n",
            "other_name:  ssa4f\n",
            "Run test\n",
            "other_name:  ssa5f\n",
            "Run test\n",
            "Name:  ftssa4f\n",
            "other_name:  all100\n",
            "Run test\n",
            "other_name:  all75\n",
            "Run test\n",
            "other_name:  ftssa4f\n",
            "continuing\n",
            "other_name:  ftssa5f\n",
            "Run test\n",
            "other_name:  gli\n",
            "Run test\n",
            "other_name:  ssa4f\n",
            "Run test\n",
            "other_name:  ssa5f\n",
            "Run test\n",
            "Name:  ftssa5f\n",
            "other_name:  all100\n",
            "Run test\n",
            "other_name:  all75\n",
            "Run test\n",
            "other_name:  ftssa4f\n",
            "Run test\n",
            "other_name:  ftssa5f\n",
            "continuing\n",
            "other_name:  gli\n",
            "Run test\n",
            "other_name:  ssa4f\n",
            "Run test\n",
            "other_name:  ssa5f\n",
            "Run test\n",
            "Name:  gli\n",
            "other_name:  all100\n",
            "Run test\n",
            "other_name:  all75\n",
            "Run test\n",
            "other_name:  ftssa4f\n",
            "Run test\n",
            "other_name:  ftssa5f\n",
            "Run test\n",
            "other_name:  gli\n",
            "continuing\n",
            "other_name:  ssa4f\n",
            "Run test\n",
            "other_name:  ssa5f\n",
            "Run test\n",
            "Name:  ssa4f\n",
            "other_name:  all100\n",
            "Run test\n",
            "other_name:  all75\n",
            "Run test\n",
            "other_name:  ftssa4f\n",
            "Run test\n",
            "other_name:  ftssa5f\n",
            "Run test\n",
            "other_name:  gli\n",
            "Run test\n",
            "other_name:  ssa4f\n",
            "continuing\n",
            "other_name:  ssa5f\n",
            "Run test\n",
            "Name:  ssa5f\n",
            "other_name:  all100\n",
            "Run test\n",
            "other_name:  all75\n",
            "Run test\n",
            "other_name:  ftssa4f\n",
            "Run test\n",
            "other_name:  ftssa5f\n",
            "Run test\n",
            "other_name:  gli\n",
            "Run test\n",
            "other_name:  ssa4f\n",
            "Run test\n",
            "other_name:  ssa5f\n",
            "continuing\n"
          ]
        }
      ],
      "source": [
        "grouped = combined_df.groupby('model')\n",
        "for name, group in grouped:\n",
        "    print('Name: ', name)\n",
        "    for other_name, other_group in grouped:\n",
        "        print('other_name: ', other_name)\n",
        "        if name != other_name:\n",
        "            print(\"Run test\")\n",
        "        else:\n",
        "            print('continuing')\n",
        "            continue"
      ]
    },
    {
      "cell_type": "code",
      "execution_count": 31,
      "metadata": {},
      "outputs": [
        {
          "name": "stdout",
          "output_type": "stream",
          "text": [
            "Model 1:  ftssa5f\n",
            "Model 2:  ftssa5f\n",
            "same model\n"
          ]
        }
      ],
      "source": [
        "# Group the data by model\n",
        "grouped = df.groupby('model')\n",
        "\n",
        "# Initialize a dictionary to hold the results\n",
        "results = {}\n",
        "\n",
        "# For each model\n",
        "for name, group in grouped:\n",
        "  print('Model 1: ', name)\n",
        "  # For each other model\n",
        "  for other_name, other_group in grouped:\n",
        "    print('Model 2: ', other_name)\n",
        "    # If the model is not the same as the other model\n",
        "    if name != other_name:\n",
        "      # For each of the columns which contain Dice scores and Hausdorff distances\n",
        "      print(\"run_test\")\n",
        "      for column in group.columns[1:7]:\n",
        "        print(column)\n",
        "        # Perform the K-S test\n",
        "        ks_result = ks_2samp(group[column], other_group[column].dropna())\n",
        "        # Store the result\n",
        "        results[(name, other_name, column)] = ks_result\n",
        "    else:\n",
        "      print(\"same model\")\n",
        "      \n",
        "\n",
        "\n",
        "# Print the results\n",
        "for key, value in results.items():\n",
        " print(f'Model 1: {key[0]}, Model 2: {key[1]}, Column: {key[2]}, K-S Statistic: {value.statistic}, P-value: {value.pvalue}')\n",
        "\n",
        "# Convert the results dictionary to a DataFrame\n",
        "results_df = pd.DataFrame(list(results.values()), index=list(results.keys()), columns=['statistic', 'pvalue'])\n",
        "\n",
        "# Save the DataFrame to a CSV file\n",
        "results_df.to_csv(os.path.join(dir_pth,'ks_test_results3.csv'))"
      ]
    },
    {
      "cell_type": "code",
      "execution_count": null,
      "metadata": {},
      "outputs": [],
      "source": []
    }
  ],
  "metadata": {
    "colab": {
      "provenance": []
    },
    "kernelspec": {
      "display_name": "Python 3",
      "name": "python3"
    },
    "language_info": {
      "codemirror_mode": {
        "name": "ipython",
        "version": 3
      },
      "file_extension": ".py",
      "mimetype": "text/x-python",
      "name": "python",
      "nbconvert_exporter": "python",
      "pygments_lexer": "ipython3",
      "version": "3.8.16"
    }
  },
  "nbformat": 4,
  "nbformat_minor": 0
}
